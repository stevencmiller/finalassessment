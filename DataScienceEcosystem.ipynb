{
 "cells": [
  {
   "cell_type": "markdown",
   "id": "57be29d8-d263-4ad7-90a6-9dc88652040b",
   "metadata": {},
   "source": [
    "# Data Science Tools and Ecosystem"
   ]
  },
  {
   "cell_type": "markdown",
   "id": "49f43174-667d-4e19-a8a8-74c431310177",
   "metadata": {},
   "source": [
    "# In this notebook, Data Science Tools and Ecosystem are summarized."
   ]
  },
  {
   "cell_type": "markdown",
   "id": "74109f63-83f0-4d24-8644-6578a7cc9186",
   "metadata": {},
   "source": [
    "# **Objectives**\n",
    "- Popular Languages in Data Science\n",
    "- Commonly used Libraries in Data Science\n",
    "- Data Science Tools\n"
   ]
  },
  {
   "cell_type": "markdown",
   "id": "bf93b6ab-65cf-44b4-8d9c-846b9a43390a",
   "metadata": {},
   "source": [
    "# Some of the popular languages that Data Scientists use are:\n",
    "1. Java\n",
    "2. C\n",
    "3. C++\n",
    "4. Python"
   ]
  },
  {
   "cell_type": "markdown",
   "id": "bdceda0d-1cf7-44a8-8374-b659d68f60cf",
   "metadata": {},
   "source": [
    "# Some of the commonly used libraries used by Data Scientists include:\n",
    "1. pandas\n",
    "2. Numpy\n",
    "3. Matplotlib\n",
    "4. Seaborn"
   ]
  },
  {
   "cell_type": "markdown",
   "id": "d4b08441-8e5e-4608-90a9-6a0816a818ef",
   "metadata": {},
   "source": [
    "##\n",
    "|Data Science Tools|\n",
    "|------------------|\n",
    "|MySQL|\n",
    "|Apache AirFlow|\n",
    "|Github|"
   ]
  },
  {
   "cell_type": "markdown",
   "id": "716bceac-9bdc-459b-9bb9-01c306eaa4c5",
   "metadata": {},
   "source": [
    "### Below are a few examples of evaluating arithmetic expressions in Python"
   ]
  },
  {
   "cell_type": "code",
   "execution_count": 1,
   "id": "a11d77b6-6819-4036-ae4b-d7709f7d721e",
   "metadata": {},
   "outputs": [
    {
     "data": {
      "text/plain": [
       "17"
      ]
     },
     "execution_count": 1,
     "metadata": {},
     "output_type": "execute_result"
    }
   ],
   "source": [
    "# This a simple arithmetic expression to multiply then add integers\n",
    "(3*4)+5"
   ]
  },
  {
   "cell_type": "code",
   "execution_count": 2,
   "id": "81110aff-d37d-4ebb-bf60-19966d7c52d7",
   "metadata": {},
   "outputs": [
    {
     "data": {
      "text/plain": [
       "3.3333333333333335"
      ]
     },
     "execution_count": 2,
     "metadata": {},
     "output_type": "execute_result"
    }
   ],
   "source": [
    "# This will convert 200 minutes to hours by diving by 60\n",
    "\n",
    "200/60"
   ]
  },
  {
   "cell_type": "markdown",
   "id": "9447ef45-e690-4e7b-9b2e-464509ab26ba",
   "metadata": {},
   "source": [
    "## Author\n",
    "Steve Miller"
   ]
  },
  {
   "cell_type": "code",
   "execution_count": null,
   "id": "1d42f5ab-ecf3-456a-a265-dcd7f8dcb0bd",
   "metadata": {},
   "outputs": [],
   "source": []
  }
 ],
 "metadata": {
  "kernelspec": {
   "display_name": "Python 3 (ipykernel)",
   "language": "python",
   "name": "python3"
  },
  "language_info": {
   "codemirror_mode": {
    "name": "ipython",
    "version": 3
   },
   "file_extension": ".py",
   "mimetype": "text/x-python",
   "name": "python",
   "nbconvert_exporter": "python",
   "pygments_lexer": "ipython3",
   "version": "3.12.8"
  }
 },
 "nbformat": 4,
 "nbformat_minor": 5
}
